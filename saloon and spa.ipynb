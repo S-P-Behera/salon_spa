{
 "cells": [
  {
   "cell_type": "code",
   "execution_count": 0,
   "metadata": {
    "application/vnd.databricks.v1+cell": {
     "cellMetadata": {
      "byteLimit": 2048000,
      "rowLimit": 10000
     },
     "inputWidgets": {},
     "nuid": "c55c2d3c-61c7-417c-8020-6fc8ced6213f",
     "showTitle": false,
     "tableResultSettingsMap": {},
     "title": ""
    }
   },
   "outputs": [],
   "source": [
    "%python\n",
    "from pyspark.sql.functions import sum\n",
    "\n",
    "# Load the sessions.csv file with an absolute path\n",
    "sessions_df = spark.read.csv(\"/Volumes/internal_1/default/saloon_and_spa\", header=True, inferSchema=True)"
   ]
  },
  {
   "cell_type": "code",
   "execution_count": 0,
   "metadata": {
    "application/vnd.databricks.v1+cell": {
     "cellMetadata": {
      "byteLimit": 2048000,
      "rowLimit": 10000
     },
     "inputWidgets": {},
     "nuid": "bdefa070-27c6-4b99-b253-14a3689129fe",
     "showTitle": false,
     "tableResultSettingsMap": {},
     "title": ""
    }
   },
   "outputs": [
    {
     "output_type": "display_data",
     "data": {
      "text/html": [
       "<style scoped>\n",
       "  .table-result-container {\n",
       "    max-height: 300px;\n",
       "    overflow: auto;\n",
       "  }\n",
       "  table, th, td {\n",
       "    border: 1px solid black;\n",
       "    border-collapse: collapse;\n",
       "  }\n",
       "  th, td {\n",
       "    padding: 5px;\n",
       "  }\n",
       "  th {\n",
       "    text-align: left;\n",
       "  }\n",
       "</style><div class='table-result-container'><table class='table-result'><thead style='background-color: white'><tr><th>Service</th><th>TotalBookings</th></tr></thead><tbody><tr><td>Hair Coloring</td><td>19</td></tr><tr><td>Spa</td><td>16</td></tr><tr><td>Facial</td><td>14</td></tr><tr><td>Massage</td><td>14</td></tr><tr><td>Threading</td><td>11</td></tr><tr><td>Haircut</td><td>11</td></tr><tr><td>Pedicure</td><td>9</td></tr><tr><td>Manicure</td><td>6</td></tr></tbody></table></div>"
      ]
     },
     "metadata": {
      "application/vnd.databricks.v1+output": {
       "addedWidgets": {},
       "aggData": [],
       "aggError": "",
       "aggOverflow": false,
       "aggSchema": [],
       "aggSeriesLimitReached": false,
       "aggType": "",
       "arguments": {},
       "columnCustomDisplayInfos": {},
       "data": [
        [
         "Hair Coloring",
         19
        ],
        [
         "Spa",
         16
        ],
        [
         "Facial",
         14
        ],
        [
         "Massage",
         14
        ],
        [
         "Threading",
         11
        ],
        [
         "Haircut",
         11
        ],
        [
         "Pedicure",
         9
        ],
        [
         "Manicure",
         6
        ]
       ],
       "datasetInfos": [],
       "dbfsResultPath": null,
       "isJsonSchema": true,
       "metadata": {},
       "overflow": false,
       "plotOptions": {
        "customPlotOptions": {},
        "displayType": "table",
        "pivotAggregation": null,
        "pivotColumns": null,
        "xColumns": null,
        "yColumns": null
       },
       "removedWidgets": [],
       "schema": [
        {
         "metadata": "{}",
         "name": "Service",
         "type": "\"string\""
        },
        {
         "metadata": "{}",
         "name": "TotalBookings",
         "type": "\"long\""
        }
       ],
       "type": "table"
      }
     },
     "output_type": "display_data"
    },
    {
     "output_type": "display_data",
     "data": {
      "text/plain": [
       "Databricks visualization. Run in Databricks to view."
      ]
     },
     "metadata": {
      "application/vnd.databricks.v1.subcommand+json": {
       "baseErrorDetails": null,
       "bindings": {},
       "collapsed": false,
       "command": "%python\n__backend_agg_display_orig = display\n__backend_agg_dfs = []\ndef __backend_agg_display_new(df):\n    __backend_agg_df_modules = [\"pandas.core.frame\", \"databricks.koalas.frame\", \"pyspark.sql.dataframe\", \"pyspark.pandas.frame\", \"pyspark.sql.connect.dataframe\"]\n    if (type(df).__module__ in __backend_agg_df_modules and type(df).__name__ == 'DataFrame') or isinstance(df, list):\n        __backend_agg_dfs.append(df)\n\ndisplay = __backend_agg_display_new\n\ndef __backend_agg_user_code_fn():\n    import base64\n    exec(base64.standard_b64decode(\"ZGZfc2Fsb24gPSBzcGFyay5yZWFkLmNzdigKICAgICIvVm9sdW1lcy9pbnRlcm5hbF8xL2RlZmF1bHQvc2Fsb29uX2FuZF9zcGEvc2Fsb25fc3BhXzEwMC5jc3YiLAogICAgaGVhZGVyPVRydWUsCiAgICBpbmZlclNjaGVtYT1UcnVlCikKCmRmX3NhbG9uLmNyZWF0ZU9yUmVwbGFjZVRlbXBWaWV3KCJzYWxvbl9zcGFfMTAwIikKCnBvcHVsYXJfc2VydmljZXNfc3FsID0gc3Bhcmsuc3FsKAogICAgIiIiCiAgICBTRUxFQ1QgU2VydmljZSwgQ09VTlQoKikgQVMgVG90YWxCb29raW5ncwogICAgRlJPTSBzYWxvbl9zcGFfMTAwCiAgICBHUk9VUCBCWSBTZXJ2aWNlCiAgICBPUkRFUiBCWSBUb3RhbEJvb2tpbmdzIERFU0MKICAgICIiIgopCgpkaXNwbGF5KHBvcHVsYXJfc2VydmljZXNfc3FsKQ==\").decode())\n\ntry:\n    # run user code\n    __backend_agg_user_code_fn()\n\n    #reset display function\n    display = __backend_agg_display_orig\n\n    if len(__backend_agg_dfs) > 0:\n        # create a temp view\n        if type(__backend_agg_dfs[0]).__module__ == \"databricks.koalas.frame\":\n            # koalas dataframe\n            __backend_agg_dfs[0].to_spark().createOrReplaceTempView(\"DatabricksViewedc1da2\")\n        elif type(__backend_agg_dfs[0]).__module__ == \"pandas.core.frame\" or isinstance(__backend_agg_dfs[0], list):\n            # pandas dataframe\n            spark.createDataFrame(__backend_agg_dfs[0]).createOrReplaceTempView(\"DatabricksViewedc1da2\")\n        else:\n            __backend_agg_dfs[0].createOrReplaceTempView(\"DatabricksViewedc1da2\")\n        #run backend agg\n        display(spark.sql(\"\"\"WITH q AS (select * from DatabricksViewedc1da2) SELECT `Service`,SUM(`TotalBookings`) `column_4ed3cb4d205` FROM q GROUP BY `Service`\"\"\"))\n    else:\n        displayHTML(\"dataframe no longer exists. If you're using dataframe.display(), use display(dataframe) instead.\")\n\n\nfinally:\n    spark.sql(\"drop view if exists DatabricksViewedc1da2\")\n    display = __backend_agg_display_orig\n    del __backend_agg_display_new\n    del __backend_agg_display_orig\n    del __backend_agg_dfs\n    del __backend_agg_user_code_fn\n\n",
       "commandTitle": "Visualization 1",
       "commandType": "auto",
       "commandVersion": 0,
       "commentThread": [],
       "commentsVisible": false,
       "contentSha256Hex": null,
       "customPlotOptions": {
        "redashChart": [
         {
          "key": "type",
          "value": "CHART"
         },
         {
          "key": "options",
          "value": {
           "alignYAxesAtZero": true,
           "coefficient": 1,
           "columnConfigurationMap": {
            "x": {
             "column": "Service",
             "id": "column_4ed3cb4d204"
            },
            "y": [
             {
              "column": "TotalBookings",
              "id": "column_4ed3cb4d205",
              "transform": "SUM"
             }
            ]
           },
           "dateTimeFormat": "DD/MM/YYYY HH:mm",
           "direction": {
            "type": "counterclockwise"
           },
           "error_y": {
            "type": "data",
            "visible": true
           },
           "globalSeriesType": "pie",
           "legend": {
            "traceorder": "normal"
           },
           "missingValuesAsZero": true,
           "numberFormat": "0,0.[00000]",
           "percentFormat": "0[.]00%",
           "series": {
            "error_y": {
             "type": "data",
             "visible": true
            },
            "stacking": null
           },
           "seriesOptions": {
            "column_4ed3cb4d205": {
             "name": "TotalBookings",
             "type": "pie",
             "yAxis": 0
            }
           },
           "showDataLabels": true,
           "sizemode": "diameter",
           "sortX": true,
           "sortY": true,
           "swappedAxes": false,
           "textFormat": "",
           "useAggregationsUi": true,
           "valuesOptions": {},
           "version": 2,
           "xAxis": {
            "labels": {
             "enabled": true
            },
            "type": "-"
           },
           "yAxis": [
            {
             "type": "-"
            },
            {
             "opposite": true,
             "type": "-"
            }
           ]
          }
         }
        ]
       },
       "datasetPreviewNameToCmdIdMap": {},
       "diffDeletes": [],
       "diffInserts": [],
       "displayType": "redashChart",
       "error": null,
       "errorDetails": null,
       "errorSummary": null,
       "errorTraceType": null,
       "finishTime": 0,
       "globalVars": {},
       "guid": "",
       "height": "auto",
       "hideCommandCode": false,
       "hideCommandResult": false,
       "iPythonMetadata": null,
       "inputWidgets": {},
       "isLockedInExamMode": false,
       "latestAssumeRoleInfo": null,
       "latestUser": "a user",
       "latestUserId": null,
       "listResultMetadata": null,
       "metadata": {},
       "nuid": "79e8ba20-9b06-4bea-bdff-df4d081e5cca",
       "origId": 0,
       "parentHierarchy": [],
       "pivotAggregation": null,
       "pivotColumns": null,
       "position": 4.0,
       "resultDbfsErrorMessage": null,
       "resultDbfsStatus": "INLINED_IN_TREE",
       "results": null,
       "showCommandTitle": false,
       "startTime": 0,
       "state": "input",
       "streamStates": {},
       "subcommandOptions": {
        "queryPlan": {
         "groups": [
          {
           "column": "Service",
           "type": "column"
          }
         ],
         "selects": [
          {
           "column": "Service",
           "type": "column"
          },
          {
           "alias": "column_4ed3cb4d205",
           "args": [
            {
             "column": "TotalBookings",
             "type": "column"
            }
           ],
           "function": "SUM",
           "type": "function"
          }
         ]
        }
       },
       "submitTime": 0,
       "subtype": "tableResultSubCmd.visualization",
       "tableResultIndex": 0,
       "tableResultSettingsMap": {},
       "useConsistentColors": false,
       "version": "CommandV1",
       "width": "auto",
       "workflows": [],
       "xColumns": null,
       "yColumns": null
      }
     },
     "output_type": "display_data"
    }
   ],
   "source": [
    "%python\n",
    "df_salon = spark.read.csv(\n",
    "    \"/Volumes/internal_1/default/saloon_and_spa/salon_spa_100.csv\",\n",
    "    header=True,\n",
    "    inferSchema=True\n",
    ")\n",
    "\n",
    "df_salon.createOrReplaceTempView(\"salon_spa_100\")\n",
    "\n",
    "popular_services_sql = spark.sql(\n",
    "    \"\"\"\n",
    "    SELECT Service, COUNT(*) AS TotalBookings\n",
    "    FROM salon_spa_100\n",
    "    GROUP BY Service\n",
    "    ORDER BY TotalBookings DESC\n",
    "    \"\"\"\n",
    ")\n",
    "\n",
    "display(popular_services_sql)"
   ]
  },
  {
   "cell_type": "code",
   "execution_count": 0,
   "metadata": {
    "application/vnd.databricks.v1+cell": {
     "cellMetadata": {
      "byteLimit": 2048000,
      "rowLimit": 10000
     },
     "inputWidgets": {},
     "nuid": "af739f51-b0f1-40bd-942a-02066e2dd252",
     "showTitle": false,
     "tableResultSettingsMap": {},
     "title": ""
    }
   },
   "outputs": [
    {
     "output_type": "display_data",
     "data": {
      "text/html": [
       "<style scoped>\n",
       "  .table-result-container {\n",
       "    max-height: 300px;\n",
       "    overflow: auto;\n",
       "  }\n",
       "  table, th, td {\n",
       "    border: 1px solid black;\n",
       "    border-collapse: collapse;\n",
       "  }\n",
       "  th, td {\n",
       "    padding: 5px;\n",
       "  }\n",
       "  th {\n",
       "    text-align: left;\n",
       "  }\n",
       "</style><div class='table-result-container'><table class='table-result'><thead style='background-color: white'><tr><th>AppointmentTime</th><th>TotalBookings</th></tr></thead><tbody><tr><td>16:00 PM</td><td>7</td></tr><tr><td>14:30 PM</td><td>6</td></tr><tr><td>19:00 PM</td><td>5</td></tr><tr><td>16:30 PM</td><td>4</td></tr><tr><td>9.30 PM</td><td>4</td></tr><tr><td>11.30 PM</td><td>4</td></tr><tr><td>19:30 PM</td><td>4</td></tr><tr><td>12.30 PM</td><td>4</td></tr><tr><td>17:30 PM</td><td>4</td></tr><tr><td>18:30 PM</td><td>4</td></tr><tr><td>10.00 PM</td><td>3</td></tr><tr><td>13:00 PM</td><td>3</td></tr><tr><td>14:00 PM</td><td>3</td></tr><tr><td>18:00 AM</td><td>3</td></tr><tr><td>9.00 PM</td><td>3</td></tr><tr><td>12.00 AM</td><td>3</td></tr><tr><td>10.30 PM</td><td>3</td></tr><tr><td>11.00 PM</td><td>3</td></tr><tr><td>15:00 PM</td><td>2</td></tr><tr><td>17:00 PM</td><td>2</td></tr><tr><td>15:30 PM</td><td>2</td></tr><tr><td>15:00 AM</td><td>2</td></tr><tr><td>18:30 AM</td><td>2</td></tr><tr><td>18:00 PM</td><td>2</td></tr><tr><td>19:00 AM</td><td>2</td></tr><tr><td>10.30 AM</td><td>2</td></tr><tr><td>16:30 AM</td><td>2</td></tr><tr><td>11.00 AM</td><td>2</td></tr><tr><td>19:30 AM</td><td>1</td></tr><tr><td>16:00 AM</td><td>1</td></tr><tr><td>12.00 PM</td><td>1</td></tr><tr><td>9.30 AM</td><td>1</td></tr><tr><td>15:30 AM</td><td>1</td></tr><tr><td>17:30 AM</td><td>1</td></tr><tr><td>9.00 AM</td><td>1</td></tr><tr><td>14:00 AM</td><td>1</td></tr><tr><td>10.00 AM</td><td>1</td></tr><tr><td>17:00 AM</td><td>1</td></tr></tbody></table></div>"
      ]
     },
     "metadata": {
      "application/vnd.databricks.v1+output": {
       "addedWidgets": {},
       "aggData": [],
       "aggError": "",
       "aggOverflow": false,
       "aggSchema": [],
       "aggSeriesLimitReached": false,
       "aggType": "",
       "arguments": {},
       "columnCustomDisplayInfos": {},
       "data": [
        [
         "16:00 PM",
         7
        ],
        [
         "14:30 PM",
         6
        ],
        [
         "19:00 PM",
         5
        ],
        [
         "16:30 PM",
         4
        ],
        [
         "9.30 PM",
         4
        ],
        [
         "11.30 PM",
         4
        ],
        [
         "19:30 PM",
         4
        ],
        [
         "12.30 PM",
         4
        ],
        [
         "17:30 PM",
         4
        ],
        [
         "18:30 PM",
         4
        ],
        [
         "10.00 PM",
         3
        ],
        [
         "13:00 PM",
         3
        ],
        [
         "14:00 PM",
         3
        ],
        [
         "18:00 AM",
         3
        ],
        [
         "9.00 PM",
         3
        ],
        [
         "12.00 AM",
         3
        ],
        [
         "10.30 PM",
         3
        ],
        [
         "11.00 PM",
         3
        ],
        [
         "15:00 PM",
         2
        ],
        [
         "17:00 PM",
         2
        ],
        [
         "15:30 PM",
         2
        ],
        [
         "15:00 AM",
         2
        ],
        [
         "18:30 AM",
         2
        ],
        [
         "18:00 PM",
         2
        ],
        [
         "19:00 AM",
         2
        ],
        [
         "10.30 AM",
         2
        ],
        [
         "16:30 AM",
         2
        ],
        [
         "11.00 AM",
         2
        ],
        [
         "19:30 AM",
         1
        ],
        [
         "16:00 AM",
         1
        ],
        [
         "12.00 PM",
         1
        ],
        [
         "9.30 AM",
         1
        ],
        [
         "15:30 AM",
         1
        ],
        [
         "17:30 AM",
         1
        ],
        [
         "9.00 AM",
         1
        ],
        [
         "14:00 AM",
         1
        ],
        [
         "10.00 AM",
         1
        ],
        [
         "17:00 AM",
         1
        ]
       ],
       "datasetInfos": [
        {
         "name": "_sqldf",
         "schema": {
          "fields": [
           {
            "metadata": {},
            "name": "AppointmentTime",
            "nullable": true,
            "type": "string"
           },
           {
            "metadata": {},
            "name": "TotalBookings",
            "nullable": false,
            "type": "long"
           }
          ],
          "type": "struct"
         },
         "tableIdentifier": null,
         "typeStr": "pyspark.sql.connect.dataframe.DataFrame"
        }
       ],
       "dbfsResultPath": null,
       "isJsonSchema": true,
       "metadata": {
        "createTempViewForImplicitDf": true,
        "dataframeName": "_sqldf",
        "executionCount": 28
       },
       "overflow": false,
       "plotOptions": {
        "customPlotOptions": {},
        "displayType": "table",
        "pivotAggregation": null,
        "pivotColumns": null,
        "xColumns": null,
        "yColumns": null
       },
       "removedWidgets": [],
       "schema": [
        {
         "metadata": "{}",
         "name": "AppointmentTime",
         "type": "\"string\""
        },
        {
         "metadata": "{}",
         "name": "TotalBookings",
         "type": "\"long\""
        }
       ],
       "type": "table"
      }
     },
     "output_type": "display_data"
    },
    {
     "output_type": "display_data",
     "data": {
      "text/plain": [
       "Databricks visualization. Run in Databricks to view."
      ]
     },
     "metadata": {
      "application/vnd.databricks.v1.subcommand+json": {
       "baseErrorDetails": null,
       "bindings": {},
       "collapsed": false,
       "command": "%sql WITH q AS (SELECT AppointmentTime, COUNT(*) AS TotalBookings\nFROM salon_spa_100\nGROUP BY AppointmentTime\nORDER BY TotalBookings DESC) SELECT `AppointmentTime`,SUM(`TotalBookings`) `column_4ed3cb4d211` FROM q GROUP BY `AppointmentTime`",
       "commandTitle": "Visualization 1",
       "commandType": "auto",
       "commandVersion": 0,
       "commentThread": [],
       "commentsVisible": false,
       "contentSha256Hex": null,
       "customPlotOptions": {
        "redashChart": [
         {
          "key": "type",
          "value": "CHART"
         },
         {
          "key": "options",
          "value": {
           "alignYAxesAtZero": true,
           "coefficient": 1,
           "columnConfigurationMap": {
            "x": {
             "column": "AppointmentTime",
             "id": "column_4ed3cb4d210"
            },
            "y": [
             {
              "column": "TotalBookings",
              "id": "column_4ed3cb4d211",
              "transform": "SUM"
             }
            ]
           },
           "dateTimeFormat": "DD/MM/YYYY HH:mm",
           "direction": {
            "type": "counterclockwise"
           },
           "error_y": {
            "type": "data",
            "visible": true
           },
           "globalSeriesType": "column",
           "legend": {
            "traceorder": "normal"
           },
           "missingValuesAsZero": true,
           "numberFormat": "0,0.[00000]",
           "percentFormat": "0[.]00%",
           "series": {
            "error_y": {
             "type": "data",
             "visible": true
            },
            "stacking": null
           },
           "seriesOptions": {
            "column_4ed3cb4d211": {
             "name": "TotalBookings",
             "yAxis": 0
            }
           },
           "showDataLabels": false,
           "sizemode": "diameter",
           "sortX": true,
           "sortY": true,
           "swappedAxes": true,
           "textFormat": "",
           "useAggregationsUi": true,
           "valuesOptions": {},
           "version": 2,
           "xAxis": {
            "labels": {
             "enabled": true
            },
            "type": "-"
           },
           "yAxis": [
            {
             "type": "-"
            },
            {
             "opposite": true,
             "type": "-"
            }
           ]
          }
         }
        ]
       },
       "datasetPreviewNameToCmdIdMap": {},
       "diffDeletes": [],
       "diffInserts": [],
       "displayType": "redashChart",
       "error": null,
       "errorDetails": null,
       "errorSummary": null,
       "errorTraceType": null,
       "finishTime": 0,
       "globalVars": {},
       "guid": "",
       "height": "auto",
       "hideCommandCode": false,
       "hideCommandResult": false,
       "iPythonMetadata": null,
       "inputWidgets": {},
       "isLockedInExamMode": false,
       "latestAssumeRoleInfo": null,
       "latestUser": "a user",
       "latestUserId": null,
       "listResultMetadata": null,
       "metadata": {},
       "nuid": "32239944-06b6-48d7-afbc-7c9b1592f2b9",
       "origId": 0,
       "parentHierarchy": [],
       "pivotAggregation": null,
       "pivotColumns": null,
       "position": 5.0,
       "resultDbfsErrorMessage": null,
       "resultDbfsStatus": "INLINED_IN_TREE",
       "results": null,
       "showCommandTitle": false,
       "startTime": 0,
       "state": "input",
       "streamStates": {},
       "subcommandOptions": {
        "queryPlan": {
         "groups": [
          {
           "column": "AppointmentTime",
           "type": "column"
          }
         ],
         "selects": [
          {
           "column": "AppointmentTime",
           "type": "column"
          },
          {
           "alias": "column_4ed3cb4d211",
           "args": [
            {
             "column": "TotalBookings",
             "type": "column"
            }
           ],
           "function": "SUM",
           "type": "function"
          }
         ]
        }
       },
       "submitTime": 0,
       "subtype": "tableResultSubCmd.visualization",
       "tableResultIndex": 0,
       "tableResultSettingsMap": {},
       "useConsistentColors": false,
       "version": "CommandV1",
       "width": "auto",
       "workflows": [],
       "xColumns": null,
       "yColumns": null
      }
     },
     "output_type": "display_data"
    }
   ],
   "source": [
    "SELECT AppointmentTime, COUNT(*) AS TotalBookings\n",
    "FROM salon_spa_100\n",
    "GROUP BY AppointmentTime\n",
    "ORDER BY TotalBookings DESC\n"
   ]
  },
  {
   "cell_type": "markdown",
   "metadata": {
    "application/vnd.databricks.v1+cell": {
     "cellMetadata": {},
     "inputWidgets": {},
     "nuid": "b4438211-7ba0-488f-93c9-aae66133c046",
     "showTitle": false,
     "tableResultSettingsMap": {},
     "title": ""
    }
   },
   "source": [
    "Most popular service type (Basic vs Premium)."
   ]
  },
  {
   "cell_type": "code",
   "execution_count": 0,
   "metadata": {
    "application/vnd.databricks.v1+cell": {
     "cellMetadata": {
      "byteLimit": 2048000,
      "rowLimit": 10000
     },
     "inputWidgets": {},
     "nuid": "bb948010-a805-4dc8-88b2-61a2f7d15956",
     "showTitle": false,
     "tableResultSettingsMap": {},
     "title": ""
    }
   },
   "outputs": [],
   "source": [
    "%python\n",
    "df_salon.createOrReplaceTempView(\"salon_spa\")\n"
   ]
  },
  {
   "cell_type": "code",
   "execution_count": 0,
   "metadata": {
    "application/vnd.databricks.v1+cell": {
     "cellMetadata": {
      "byteLimit": 2048000,
      "rowLimit": 10000
     },
     "inputWidgets": {},
     "nuid": "8f66444b-e48a-4e61-881c-696c1f4b9ad2",
     "showTitle": false,
     "tableResultSettingsMap": {},
     "title": ""
    }
   },
   "outputs": [
    {
     "output_type": "display_data",
     "data": {
      "text/html": [
       "<style scoped>\n",
       "  .table-result-container {\n",
       "    max-height: 300px;\n",
       "    overflow: auto;\n",
       "  }\n",
       "  table, th, td {\n",
       "    border: 1px solid black;\n",
       "    border-collapse: collapse;\n",
       "  }\n",
       "  th, td {\n",
       "    padding: 5px;\n",
       "  }\n",
       "  th {\n",
       "    text-align: left;\n",
       "  }\n",
       "</style><div class='table-result-container'><table class='table-result'><thead style='background-color: white'><tr><th>ServiceType</th><th>TotalBookings</th></tr></thead><tbody><tr><td>Premium</td><td>55</td></tr><tr><td>Basic</td><td>45</td></tr></tbody></table></div>"
      ]
     },
     "metadata": {
      "application/vnd.databricks.v1+output": {
       "addedWidgets": {},
       "aggData": [],
       "aggError": "",
       "aggOverflow": false,
       "aggSchema": [],
       "aggSeriesLimitReached": false,
       "aggType": "",
       "arguments": {},
       "columnCustomDisplayInfos": {},
       "data": [
        [
         "Premium",
         55
        ],
        [
         "Basic",
         45
        ]
       ],
       "datasetInfos": [
        {
         "name": "_sqldf",
         "schema": {
          "fields": [
           {
            "metadata": {},
            "name": "ServiceType",
            "nullable": true,
            "type": "string"
           },
           {
            "metadata": {},
            "name": "TotalBookings",
            "nullable": false,
            "type": "long"
           }
          ],
          "type": "struct"
         },
         "tableIdentifier": null,
         "typeStr": "pyspark.sql.connect.dataframe.DataFrame"
        }
       ],
       "dbfsResultPath": null,
       "isJsonSchema": true,
       "metadata": {
        "createTempViewForImplicitDf": true,
        "dataframeName": "_sqldf",
        "executionCount": 40
       },
       "overflow": false,
       "plotOptions": {
        "customPlotOptions": {},
        "displayType": "table",
        "pivotAggregation": null,
        "pivotColumns": null,
        "xColumns": null,
        "yColumns": null
       },
       "removedWidgets": [],
       "schema": [
        {
         "metadata": "{}",
         "name": "ServiceType",
         "type": "\"string\""
        },
        {
         "metadata": "{}",
         "name": "TotalBookings",
         "type": "\"long\""
        }
       ],
       "type": "table"
      }
     },
     "output_type": "display_data"
    },
    {
     "output_type": "display_data",
     "data": {
      "text/plain": [
       "Databricks visualization. Run in Databricks to view."
      ]
     },
     "metadata": {
      "application/vnd.databricks.v1.subcommand+json": {
       "baseErrorDetails": null,
       "bindings": {},
       "collapsed": false,
       "command": "SELECT ServiceType, COUNT(*) AS TotalBookings\nFROM salon_spa\nGROUP BY ServiceType\nORDER BY TotalBookings DESC",
       "commandTitle": "Visualization 1",
       "commandType": "auto",
       "commandVersion": 0,
       "commentThread": [],
       "commentsVisible": false,
       "contentSha256Hex": null,
       "customPlotOptions": {
        "redashChart": [
         {
          "key": "type",
          "value": "TABLE"
         },
         {
          "key": "options",
          "value": {
           "columns": [
            {
             "alignContent": "left",
             "allowHTML": false,
             "allowSearch": false,
             "booleanValues": [
              "false",
              "true"
             ],
             "displayAs": "string",
             "highlightLinks": false,
             "imageHeight": "",
             "imageTitleTemplate": "{{ @ }}",
             "imageUrlTemplate": "{{ @ }}",
             "imageWidth": "",
             "linkOpenInNewTab": true,
             "linkTextTemplate": "{{ @ }}",
             "linkTitleTemplate": "{{ @ }}",
             "linkUrlTemplate": "{{ @ }}",
             "name": "ServiceType",
             "order": 100000,
             "preserveWhitespace": false,
             "title": "ServiceType",
             "type": "string",
             "useMonospaceFont": false,
             "visible": true
            },
            {
             "alignContent": "right",
             "allowHTML": false,
             "allowSearch": false,
             "booleanValues": [
              "false",
              "true"
             ],
             "displayAs": "number",
             "highlightLinks": false,
             "imageHeight": "",
             "imageTitleTemplate": "{{ @ }}",
             "imageUrlTemplate": "{{ @ }}",
             "imageWidth": "",
             "linkOpenInNewTab": true,
             "linkTextTemplate": "{{ @ }}",
             "linkTitleTemplate": "{{ @ }}",
             "linkUrlTemplate": "{{ @ }}",
             "name": "TotalBookings",
             "numberFormat": "0",
             "order": 100001,
             "preserveWhitespace": false,
             "title": "TotalBookings",
             "type": "integer",
             "useMonospaceFont": false,
             "visible": true
            }
           ],
           "condensed": true,
           "itemsPerPage": 25,
           "paginationSize": "default",
           "version": 2,
           "withRowNumber": true
          }
         }
        ]
       },
       "datasetPreviewNameToCmdIdMap": {},
       "diffDeletes": [],
       "diffInserts": [],
       "displayType": "redashChart",
       "error": null,
       "errorDetails": null,
       "errorSummary": null,
       "errorTraceType": null,
       "finishTime": 0,
       "globalVars": {},
       "guid": "",
       "height": "auto",
       "hideCommandCode": false,
       "hideCommandResult": false,
       "iPythonMetadata": null,
       "inputWidgets": {},
       "isLockedInExamMode": false,
       "latestAssumeRoleInfo": null,
       "latestUser": "a user",
       "latestUserId": null,
       "listResultMetadata": null,
       "metadata": {},
       "nuid": "fe9508aa-c606-4632-9531-e8ae2bdb557c",
       "origId": 0,
       "parentHierarchy": [],
       "pivotAggregation": null,
       "pivotColumns": null,
       "position": 8.0,
       "resultDbfsErrorMessage": null,
       "resultDbfsStatus": "INLINED_IN_TREE",
       "results": null,
       "showCommandTitle": false,
       "startTime": 0,
       "state": "input",
       "streamStates": {},
       "subcommandOptions": {},
       "submitTime": 0,
       "subtype": "tableResultSubCmd.visualization",
       "tableResultIndex": 0,
       "tableResultSettingsMap": {},
       "useConsistentColors": false,
       "version": "CommandV1",
       "width": "auto",
       "workflows": [],
       "xColumns": null,
       "yColumns": null
      }
     },
     "output_type": "display_data"
    }
   ],
   "source": [
    "SELECT ServiceType, COUNT(*) AS TotalBookings\n",
    "FROM salon_spa\n",
    "GROUP BY ServiceType\n",
    "ORDER BY TotalBookings DESC"
   ]
  },
  {
   "cell_type": "markdown",
   "metadata": {
    "application/vnd.databricks.v1+cell": {
     "cellMetadata": {},
     "inputWidgets": {},
     "nuid": "cae0c99b-0e67-4357-82d7-a5f0bc0e05eb",
     "showTitle": false,
     "tableResultSettingsMap": {},
     "title": ""
    }
   },
   "source": [
    "Total revenue per service."
   ]
  },
  {
   "cell_type": "code",
   "execution_count": 0,
   "metadata": {
    "application/vnd.databricks.v1+cell": {
     "cellMetadata": {
      "byteLimit": 2048000,
      "rowLimit": 10000
     },
     "inputWidgets": {},
     "nuid": "a5eaf8a4-3816-42cf-aea9-f3f94768c5d0",
     "showTitle": false,
     "tableResultSettingsMap": {},
     "title": ""
    }
   },
   "outputs": [
    {
     "output_type": "display_data",
     "data": {
      "text/html": [
       "<style scoped>\n",
       "  .table-result-container {\n",
       "    max-height: 300px;\n",
       "    overflow: auto;\n",
       "  }\n",
       "  table, th, td {\n",
       "    border: 1px solid black;\n",
       "    border-collapse: collapse;\n",
       "  }\n",
       "  th, td {\n",
       "    padding: 5px;\n",
       "  }\n",
       "  th {\n",
       "    text-align: left;\n",
       "  }\n",
       "</style><div class='table-result-container'><table class='table-result'><thead style='background-color: white'><tr><th>Service</th><th>TotalRevenue</th></tr></thead><tbody><tr><td>Spa</td><td>27600</td></tr><tr><td>Hair Coloring</td><td>24400</td></tr><tr><td>Facial</td><td>18600</td></tr><tr><td>Haircut</td><td>15300</td></tr><tr><td>Massage</td><td>13300</td></tr><tr><td>Threading</td><td>11800</td></tr><tr><td>Pedicure</td><td>11400</td></tr><tr><td>Manicure</td><td>9000</td></tr></tbody></table></div>"
      ]
     },
     "metadata": {
      "application/vnd.databricks.v1+output": {
       "addedWidgets": {},
       "aggData": [],
       "aggError": "",
       "aggOverflow": false,
       "aggSchema": [],
       "aggSeriesLimitReached": false,
       "aggType": "",
       "arguments": {},
       "columnCustomDisplayInfos": {},
       "data": [
        [
         "Spa",
         27600
        ],
        [
         "Hair Coloring",
         24400
        ],
        [
         "Facial",
         18600
        ],
        [
         "Haircut",
         15300
        ],
        [
         "Massage",
         13300
        ],
        [
         "Threading",
         11800
        ],
        [
         "Pedicure",
         11400
        ],
        [
         "Manicure",
         9000
        ]
       ],
       "datasetInfos": [
        {
         "name": "_sqldf",
         "schema": {
          "fields": [
           {
            "metadata": {},
            "name": "Service",
            "nullable": true,
            "type": "string"
           },
           {
            "metadata": {},
            "name": "TotalRevenue",
            "nullable": true,
            "type": "long"
           }
          ],
          "type": "struct"
         },
         "tableIdentifier": null,
         "typeStr": "pyspark.sql.connect.dataframe.DataFrame"
        }
       ],
       "dbfsResultPath": null,
       "isJsonSchema": true,
       "metadata": {
        "createTempViewForImplicitDf": true,
        "dataframeName": "_sqldf",
        "executionCount": 32
       },
       "overflow": false,
       "plotOptions": {
        "customPlotOptions": {},
        "displayType": "table",
        "pivotAggregation": null,
        "pivotColumns": null,
        "xColumns": null,
        "yColumns": null
       },
       "removedWidgets": [],
       "schema": [
        {
         "metadata": "{}",
         "name": "Service",
         "type": "\"string\""
        },
        {
         "metadata": "{}",
         "name": "TotalRevenue",
         "type": "\"long\""
        }
       ],
       "type": "table"
      }
     },
     "output_type": "display_data"
    },
    {
     "output_type": "display_data",
     "data": {
      "text/plain": [
       "Databricks visualization. Run in Databricks to view."
      ]
     },
     "metadata": {
      "application/vnd.databricks.v1.subcommand+json": {
       "baseErrorDetails": null,
       "bindings": {},
       "collapsed": false,
       "command": "%sql WITH q AS (SELECT Service, SUM(Price) AS TotalRevenue\nFROM salon_spa\nGROUP BY Service\nORDER BY TotalRevenue DESC) SELECT `Service`,`Service`,`TotalRevenue` FROM q",
       "commandTitle": "Visualization 1",
       "commandType": "auto",
       "commandVersion": 0,
       "commentThread": [],
       "commentsVisible": false,
       "contentSha256Hex": null,
       "customPlotOptions": {
        "redashChart": [
         {
          "key": "type",
          "value": "CHART"
         },
         {
          "key": "options",
          "value": {
           "alignYAxesAtZero": true,
           "coefficient": 1,
           "columnConfigurationMap": {
            "x": {
             "column": "Service",
             "id": "column_4ed3cb4d228"
            },
            "y": [
             {
              "column": "Service",
              "id": "column_4ed3cb4d237"
             },
             {
              "column": "TotalRevenue",
              "id": "column_4ed3cb4d238"
             }
            ]
           },
           "dateTimeFormat": "DD/MM/YYYY HH:mm",
           "direction": {
            "type": "counterclockwise"
           },
           "error_y": {
            "type": "data",
            "visible": true
           },
           "globalSeriesType": "bubble",
           "legend": {
            "traceorder": "normal"
           },
           "missingValuesAsZero": true,
           "numBins": 10,
           "numberFormat": "0,0.[00000]",
           "percentFormat": "0[.]00%",
           "series": {
            "error_y": {
             "type": "data",
             "visible": true
            },
            "stacking": null
           },
           "seriesOptions": {
            "Service": {
             "type": "bubble",
             "yAxis": 0
            },
            "TotalRevenue": {
             "type": "bubble",
             "yAxis": 0
            },
            "column_4ed3cb4d225": {
             "name": "TotalRevenue",
             "type": "bubble",
             "yAxis": 0
            }
           },
           "showDataLabels": false,
           "sizemode": "diameter",
           "sortX": true,
           "sortY": true,
           "swappedAxes": false,
           "textFormat": "",
           "useAggregationsUi": true,
           "valuesOptions": {},
           "version": 2,
           "xAxis": {
            "labels": {
             "enabled": true
            },
            "type": "-"
           },
           "yAxis": [
            {
             "type": "linear"
            },
            {
             "opposite": true,
             "type": "-"
            }
           ]
          }
         }
        ]
       },
       "datasetPreviewNameToCmdIdMap": {},
       "diffDeletes": [],
       "diffInserts": [],
       "displayType": "redashChart",
       "error": null,
       "errorDetails": null,
       "errorSummary": null,
       "errorTraceType": null,
       "finishTime": 0,
       "globalVars": {},
       "guid": "",
       "height": "auto",
       "hideCommandCode": false,
       "hideCommandResult": false,
       "iPythonMetadata": null,
       "inputWidgets": {},
       "isLockedInExamMode": false,
       "latestAssumeRoleInfo": null,
       "latestUser": "a user",
       "latestUserId": null,
       "listResultMetadata": null,
       "metadata": {},
       "nuid": "b9d91fd4-7323-4e09-bf68-86d2f4ebef75",
       "origId": 0,
       "parentHierarchy": [],
       "pivotAggregation": null,
       "pivotColumns": null,
       "position": 10.0,
       "resultDbfsErrorMessage": null,
       "resultDbfsStatus": "INLINED_IN_TREE",
       "results": null,
       "showCommandTitle": false,
       "startTime": 0,
       "state": "input",
       "streamStates": {},
       "subcommandOptions": {
        "queryPlan": {
         "selects": [
          {
           "column": "Service",
           "type": "column"
          },
          {
           "column": "Service",
           "type": "column"
          },
          {
           "column": "TotalRevenue",
           "type": "column"
          }
         ]
        }
       },
       "submitTime": 0,
       "subtype": "tableResultSubCmd.visualization",
       "tableResultIndex": 0,
       "tableResultSettingsMap": {},
       "useConsistentColors": false,
       "version": "CommandV1",
       "width": "auto",
       "workflows": [],
       "xColumns": null,
       "yColumns": null
      }
     },
     "output_type": "display_data"
    }
   ],
   "source": [
    "SELECT Service, SUM(Price) AS TotalRevenue\n",
    "FROM salon_spa\n",
    "GROUP BY Service\n",
    "ORDER BY TotalRevenue DESC\n"
   ]
  },
  {
   "cell_type": "markdown",
   "metadata": {
    "application/vnd.databricks.v1+cell": {
     "cellMetadata": {},
     "inputWidgets": {},
     "nuid": "3a1dda7e-addd-491a-8389-b748e3803a4d",
     "showTitle": false,
     "tableResultSettingsMap": {},
     "title": ""
    }
   },
   "source": [
    "Average price per service."
   ]
  },
  {
   "cell_type": "code",
   "execution_count": 0,
   "metadata": {
    "application/vnd.databricks.v1+cell": {
     "cellMetadata": {
      "byteLimit": 2048000,
      "rowLimit": 10000
     },
     "inputWidgets": {},
     "nuid": "6e894fc1-a26d-4254-af64-775f40febdda",
     "showTitle": false,
     "tableResultSettingsMap": {},
     "title": ""
    }
   },
   "outputs": [
    {
     "output_type": "display_data",
     "data": {
      "text/html": [
       "<style scoped>\n",
       "  .table-result-container {\n",
       "    max-height: 300px;\n",
       "    overflow: auto;\n",
       "  }\n",
       "  table, th, td {\n",
       "    border: 1px solid black;\n",
       "    border-collapse: collapse;\n",
       "  }\n",
       "  th, td {\n",
       "    padding: 5px;\n",
       "  }\n",
       "  th {\n",
       "    text-align: left;\n",
       "  }\n",
       "</style><div class='table-result-container'><table class='table-result'><thead style='background-color: white'><tr><th>Service</th><th>AvgPrice</th></tr></thead><tbody><tr><td>Spa</td><td>1725.0</td></tr><tr><td>Manicure</td><td>1500.0</td></tr><tr><td>Haircut</td><td>1390.909090909091</td></tr><tr><td>Facial</td><td>1328.5714285714287</td></tr><tr><td>Hair Coloring</td><td>1284.2105263157894</td></tr><tr><td>Pedicure</td><td>1266.6666666666667</td></tr><tr><td>Threading</td><td>1072.7272727272727</td></tr><tr><td>Massage</td><td>950.0</td></tr></tbody></table></div>"
      ]
     },
     "metadata": {
      "application/vnd.databricks.v1+output": {
       "addedWidgets": {},
       "aggData": [],
       "aggError": "",
       "aggOverflow": false,
       "aggSchema": [],
       "aggSeriesLimitReached": false,
       "aggType": "",
       "arguments": {},
       "columnCustomDisplayInfos": {},
       "data": [
        [
         "Spa",
         1725.0
        ],
        [
         "Manicure",
         1500.0
        ],
        [
         "Haircut",
         1390.909090909091
        ],
        [
         "Facial",
         1328.5714285714287
        ],
        [
         "Hair Coloring",
         1284.2105263157894
        ],
        [
         "Pedicure",
         1266.6666666666667
        ],
        [
         "Threading",
         1072.7272727272727
        ],
        [
         "Massage",
         950.0
        ]
       ],
       "datasetInfos": [
        {
         "name": "_sqldf",
         "schema": {
          "fields": [
           {
            "metadata": {},
            "name": "Service",
            "nullable": true,
            "type": "string"
           },
           {
            "metadata": {},
            "name": "AvgPrice",
            "nullable": true,
            "type": "double"
           }
          ],
          "type": "struct"
         },
         "tableIdentifier": null,
         "typeStr": "pyspark.sql.connect.dataframe.DataFrame"
        }
       ],
       "dbfsResultPath": null,
       "isJsonSchema": true,
       "metadata": {
        "createTempViewForImplicitDf": true,
        "dataframeName": "_sqldf",
        "executionCount": 33
       },
       "overflow": false,
       "plotOptions": {
        "customPlotOptions": {},
        "displayType": "table",
        "pivotAggregation": null,
        "pivotColumns": null,
        "xColumns": null,
        "yColumns": null
       },
       "removedWidgets": [],
       "schema": [
        {
         "metadata": "{}",
         "name": "Service",
         "type": "\"string\""
        },
        {
         "metadata": "{}",
         "name": "AvgPrice",
         "type": "\"double\""
        }
       ],
       "type": "table"
      }
     },
     "output_type": "display_data"
    },
    {
     "output_type": "display_data",
     "data": {
      "text/plain": [
       "Databricks visualization. Run in Databricks to view."
      ]
     },
     "metadata": {
      "application/vnd.databricks.v1.subcommand+json": {
       "baseErrorDetails": null,
       "bindings": {},
       "collapsed": false,
       "command": "%sql WITH q AS (SELECT Service, AVG(Price) AS AvgPrice\nFROM salon_spa\nGROUP BY Service\nORDER BY AvgPrice DESC) SELECT `Service`,SUM(`AvgPrice`) `column_4ed3cb4d240` FROM q GROUP BY `Service`",
       "commandTitle": "Visualization 1",
       "commandType": "auto",
       "commandVersion": 0,
       "commentThread": [],
       "commentsVisible": false,
       "contentSha256Hex": null,
       "customPlotOptions": {
        "redashChart": [
         {
          "key": "type",
          "value": "CHART"
         },
         {
          "key": "options",
          "value": {
           "alignYAxesAtZero": true,
           "coefficient": 1,
           "columnConfigurationMap": {
            "x": {
             "column": "Service",
             "id": "column_4ed3cb4d239"
            },
            "y": [
             {
              "column": "AvgPrice",
              "id": "column_4ed3cb4d240",
              "transform": "SUM"
             }
            ]
           },
           "dateTimeFormat": "DD/MM/YYYY HH:mm",
           "direction": {
            "type": "counterclockwise"
           },
           "error_y": {
            "type": "data",
            "visible": true
           },
           "globalSeriesType": "line",
           "legend": {
            "traceorder": "normal"
           },
           "missingValuesAsZero": true,
           "numberFormat": "0,0.[00000]",
           "percentFormat": "0[.]00%",
           "series": {
            "error_y": {
             "type": "data",
             "visible": true
            },
            "stacking": null
           },
           "seriesOptions": {
            "column_4ed3cb4d240": {
             "name": "AvgPrice",
             "type": "line",
             "yAxis": 0
            }
           },
           "showDataLabels": false,
           "sizemode": "diameter",
           "sortX": true,
           "sortY": true,
           "swappedAxes": false,
           "textFormat": "",
           "useAggregationsUi": true,
           "valuesOptions": {},
           "version": 2,
           "xAxis": {
            "labels": {
             "enabled": true
            },
            "type": "-"
           },
           "yAxis": [
            {
             "type": "-"
            },
            {
             "opposite": true,
             "type": "-"
            }
           ]
          }
         }
        ]
       },
       "datasetPreviewNameToCmdIdMap": {},
       "diffDeletes": [],
       "diffInserts": [],
       "displayType": "redashChart",
       "error": null,
       "errorDetails": null,
       "errorSummary": null,
       "errorTraceType": null,
       "finishTime": 0,
       "globalVars": {},
       "guid": "",
       "height": "auto",
       "hideCommandCode": false,
       "hideCommandResult": false,
       "iPythonMetadata": null,
       "inputWidgets": {},
       "isLockedInExamMode": false,
       "latestAssumeRoleInfo": null,
       "latestUser": "a user",
       "latestUserId": null,
       "listResultMetadata": null,
       "metadata": {},
       "nuid": "2ffc6250-6ca9-41ad-a2a5-092baa73a395",
       "origId": 0,
       "parentHierarchy": [],
       "pivotAggregation": null,
       "pivotColumns": null,
       "position": 12.0,
       "resultDbfsErrorMessage": null,
       "resultDbfsStatus": "INLINED_IN_TREE",
       "results": null,
       "showCommandTitle": false,
       "startTime": 0,
       "state": "input",
       "streamStates": {},
       "subcommandOptions": {
        "queryPlan": {
         "groups": [
          {
           "column": "Service",
           "type": "column"
          }
         ],
         "selects": [
          {
           "column": "Service",
           "type": "column"
          },
          {
           "alias": "column_4ed3cb4d240",
           "args": [
            {
             "column": "AvgPrice",
             "type": "column"
            }
           ],
           "function": "SUM",
           "type": "function"
          }
         ]
        }
       },
       "submitTime": 0,
       "subtype": "tableResultSubCmd.visualization",
       "tableResultIndex": 0,
       "tableResultSettingsMap": {},
       "useConsistentColors": false,
       "version": "CommandV1",
       "width": "auto",
       "workflows": [],
       "xColumns": null,
       "yColumns": null
      }
     },
     "output_type": "display_data"
    }
   ],
   "source": [
    "SELECT Service, AVG(Price) AS AvgPrice\n",
    "FROM salon_spa\n",
    "GROUP BY Service\n",
    "ORDER BY AvgPrice DESC\n"
   ]
  },
  {
   "cell_type": "markdown",
   "metadata": {
    "application/vnd.databricks.v1+cell": {
     "cellMetadata": {},
     "inputWidgets": {},
     "nuid": "f88ed83a-a1f0-44b1-a11a-d8fccf48bd0c",
     "showTitle": false,
     "tableResultSettingsMap": {},
     "title": ""
    }
   },
   "source": [
    "Most booked staff (appointments handled)."
   ]
  },
  {
   "cell_type": "code",
   "execution_count": 0,
   "metadata": {
    "application/vnd.databricks.v1+cell": {
     "cellMetadata": {
      "byteLimit": 2048000,
      "rowLimit": 10000
     },
     "inputWidgets": {},
     "nuid": "27507468-be70-4bcd-9e9a-91532d81b95a",
     "showTitle": false,
     "tableResultSettingsMap": {},
     "title": ""
    }
   },
   "outputs": [
    {
     "output_type": "display_data",
     "data": {
      "text/html": [
       "<style scoped>\n",
       "  .table-result-container {\n",
       "    max-height: 300px;\n",
       "    overflow: auto;\n",
       "  }\n",
       "  table, th, td {\n",
       "    border: 1px solid black;\n",
       "    border-collapse: collapse;\n",
       "  }\n",
       "  th, td {\n",
       "    padding: 5px;\n",
       "  }\n",
       "  th {\n",
       "    text-align: left;\n",
       "  }\n",
       "</style><div class='table-result-container'><table class='table-result'><thead style='background-color: white'><tr><th>StaffName</th><th>TotalAppointments</th></tr></thead><tbody><tr><td>Meena</td><td>19</td></tr><tr><td>Alok</td><td>18</td></tr><tr><td>Kavita</td><td>17</td></tr><tr><td>Suresh</td><td>16</td></tr><tr><td>Rajesh</td><td>16</td></tr><tr><td>Ritika</td><td>14</td></tr></tbody></table></div>"
      ]
     },
     "metadata": {
      "application/vnd.databricks.v1+output": {
       "addedWidgets": {},
       "aggData": [],
       "aggError": "",
       "aggOverflow": false,
       "aggSchema": [],
       "aggSeriesLimitReached": false,
       "aggType": "",
       "arguments": {},
       "columnCustomDisplayInfos": {},
       "data": [
        [
         "Meena",
         19
        ],
        [
         "Alok",
         18
        ],
        [
         "Kavita",
         17
        ],
        [
         "Suresh",
         16
        ],
        [
         "Rajesh",
         16
        ],
        [
         "Ritika",
         14
        ]
       ],
       "datasetInfos": [
        {
         "name": "_sqldf",
         "schema": {
          "fields": [
           {
            "metadata": {},
            "name": "StaffName",
            "nullable": true,
            "type": "string"
           },
           {
            "metadata": {},
            "name": "TotalAppointments",
            "nullable": false,
            "type": "long"
           }
          ],
          "type": "struct"
         },
         "tableIdentifier": null,
         "typeStr": "pyspark.sql.connect.dataframe.DataFrame"
        }
       ],
       "dbfsResultPath": null,
       "isJsonSchema": true,
       "metadata": {
        "createTempViewForImplicitDf": true,
        "dataframeName": "_sqldf",
        "executionCount": 34
       },
       "overflow": false,
       "plotOptions": {
        "customPlotOptions": {},
        "displayType": "table",
        "pivotAggregation": null,
        "pivotColumns": null,
        "xColumns": null,
        "yColumns": null
       },
       "removedWidgets": [],
       "schema": [
        {
         "metadata": "{}",
         "name": "StaffName",
         "type": "\"string\""
        },
        {
         "metadata": "{}",
         "name": "TotalAppointments",
         "type": "\"long\""
        }
       ],
       "type": "table"
      }
     },
     "output_type": "display_data"
    },
    {
     "output_type": "display_data",
     "data": {
      "text/plain": [
       "Databricks visualization. Run in Databricks to view."
      ]
     },
     "metadata": {
      "application/vnd.databricks.v1.subcommand+json": {
       "baseErrorDetails": null,
       "bindings": {},
       "collapsed": false,
       "command": "SELECT StaffName, COUNT(*) AS TotalAppointments\nFROM salon_spa\nGROUP BY StaffName\nORDER BY TotalAppointments DESC\n",
       "commandTitle": "Visualization 1",
       "commandType": "auto",
       "commandVersion": 0,
       "commentThread": [],
       "commentsVisible": false,
       "contentSha256Hex": null,
       "customPlotOptions": {
        "redashChart": [
         {
          "key": "type",
          "value": "FUNNEL"
         },
         {
          "key": "options",
          "value": {
           "autoSort": true,
           "itemsLimit": 100,
           "numberFormat": "0,0.[00]",
           "percentFormat": "0[.]00%",
           "percentValuesRange": {
            "max": 1000,
            "min": 0.01
           },
           "sortKeyCol": {
            "colName": "TotalAppointments",
            "reverse": true
           },
           "stepCol": {
            "colName": "StaffName",
            "displayAs": "staffs"
           },
           "valueCol": {
            "colName": "TotalAppointments",
            "displayAs": "appointment "
           }
          }
         }
        ]
       },
       "datasetPreviewNameToCmdIdMap": {},
       "diffDeletes": [],
       "diffInserts": [],
       "displayType": "redashChart",
       "error": null,
       "errorDetails": null,
       "errorSummary": null,
       "errorTraceType": null,
       "finishTime": 0,
       "globalVars": {},
       "guid": "",
       "height": "auto",
       "hideCommandCode": false,
       "hideCommandResult": false,
       "iPythonMetadata": null,
       "inputWidgets": {},
       "isLockedInExamMode": false,
       "latestAssumeRoleInfo": null,
       "latestUser": "a user",
       "latestUserId": null,
       "listResultMetadata": null,
       "metadata": {},
       "nuid": "049179b8-d7fc-4f58-8236-71ee06eecee4",
       "origId": 0,
       "parentHierarchy": [],
       "pivotAggregation": null,
       "pivotColumns": null,
       "position": 14.0,
       "resultDbfsErrorMessage": null,
       "resultDbfsStatus": "INLINED_IN_TREE",
       "results": null,
       "showCommandTitle": false,
       "startTime": 0,
       "state": "input",
       "streamStates": {},
       "subcommandOptions": {},
       "submitTime": 0,
       "subtype": "tableResultSubCmd.visualization",
       "tableResultIndex": 0,
       "tableResultSettingsMap": {},
       "useConsistentColors": false,
       "version": "CommandV1",
       "width": "auto",
       "workflows": [],
       "xColumns": null,
       "yColumns": null
      }
     },
     "output_type": "display_data"
    }
   ],
   "source": [
    "SELECT StaffName, COUNT(*) AS TotalAppointments\n",
    "FROM salon_spa\n",
    "GROUP BY StaffName\n",
    "ORDER BY TotalAppointments DESC\n"
   ]
  },
  {
   "cell_type": "markdown",
   "metadata": {
    "application/vnd.databricks.v1+cell": {
     "cellMetadata": {},
     "inputWidgets": {},
     "nuid": "d5b9f150-ecd3-4629-817a-f50cd321be08",
     "showTitle": false,
     "tableResultSettingsMap": {},
     "title": ""
    }
   },
   "source": [
    "Daily revenue trends."
   ]
  },
  {
   "cell_type": "code",
   "execution_count": 0,
   "metadata": {
    "application/vnd.databricks.v1+cell": {
     "cellMetadata": {
      "byteLimit": 2048000,
      "rowLimit": 10000
     },
     "inputWidgets": {},
     "nuid": "8d5c36ae-a391-4490-8704-d2f457864073",
     "showTitle": false,
     "tableResultSettingsMap": {},
     "title": ""
    }
   },
   "outputs": [
    {
     "output_type": "display_data",
     "data": {
      "text/html": [
       "<style scoped>\n",
       "  .table-result-container {\n",
       "    max-height: 300px;\n",
       "    overflow: auto;\n",
       "  }\n",
       "  table, th, td {\n",
       "    border: 1px solid black;\n",
       "    border-collapse: collapse;\n",
       "  }\n",
       "  th, td {\n",
       "    padding: 5px;\n",
       "  }\n",
       "  th {\n",
       "    text-align: left;\n",
       "  }\n",
       "</style><div class='table-result-container'><table class='table-result'><thead style='background-color: white'><tr><th>AppointmentDate</th><th>DailyRevenue</th></tr></thead><tbody><tr><td>2025-09-01</td><td>2000</td></tr><tr><td>2025-09-02</td><td>5800</td></tr><tr><td>2025-09-04</td><td>4100</td></tr><tr><td>2025-09-05</td><td>5100</td></tr><tr><td>2025-09-06</td><td>4500</td></tr><tr><td>2025-09-07</td><td>1100</td></tr><tr><td>2025-09-08</td><td>3600</td></tr><tr><td>2025-09-09</td><td>10100</td></tr><tr><td>2025-09-10</td><td>2200</td></tr><tr><td>2025-09-11</td><td>4500</td></tr><tr><td>2025-09-12</td><td>600</td></tr><tr><td>2025-09-13</td><td>4400</td></tr><tr><td>2025-09-14</td><td>6100</td></tr><tr><td>2025-09-15</td><td>3200</td></tr><tr><td>2025-09-16</td><td>1500</td></tr><tr><td>2025-09-17</td><td>9000</td></tr><tr><td>2025-09-18</td><td>5700</td></tr><tr><td>2025-09-19</td><td>4100</td></tr><tr><td>2025-09-20</td><td>1900</td></tr><tr><td>2025-09-21</td><td>3200</td></tr><tr><td>2025-09-22</td><td>9000</td></tr><tr><td>2025-09-23</td><td>3500</td></tr><tr><td>2025-09-24</td><td>2500</td></tr><tr><td>2025-09-25</td><td>6800</td></tr><tr><td>2025-09-26</td><td>7400</td></tr><tr><td>2025-09-27</td><td>7900</td></tr><tr><td>2025-09-29</td><td>500</td></tr><tr><td>2025-09-30</td><td>11100</td></tr></tbody></table></div>"
      ]
     },
     "metadata": {
      "application/vnd.databricks.v1+output": {
       "addedWidgets": {},
       "aggData": [],
       "aggError": "",
       "aggOverflow": false,
       "aggSchema": [],
       "aggSeriesLimitReached": false,
       "aggType": "",
       "arguments": {},
       "columnCustomDisplayInfos": {},
       "data": [
        [
         "2025-09-01",
         2000
        ],
        [
         "2025-09-02",
         5800
        ],
        [
         "2025-09-04",
         4100
        ],
        [
         "2025-09-05",
         5100
        ],
        [
         "2025-09-06",
         4500
        ],
        [
         "2025-09-07",
         1100
        ],
        [
         "2025-09-08",
         3600
        ],
        [
         "2025-09-09",
         10100
        ],
        [
         "2025-09-10",
         2200
        ],
        [
         "2025-09-11",
         4500
        ],
        [
         "2025-09-12",
         600
        ],
        [
         "2025-09-13",
         4400
        ],
        [
         "2025-09-14",
         6100
        ],
        [
         "2025-09-15",
         3200
        ],
        [
         "2025-09-16",
         1500
        ],
        [
         "2025-09-17",
         9000
        ],
        [
         "2025-09-18",
         5700
        ],
        [
         "2025-09-19",
         4100
        ],
        [
         "2025-09-20",
         1900
        ],
        [
         "2025-09-21",
         3200
        ],
        [
         "2025-09-22",
         9000
        ],
        [
         "2025-09-23",
         3500
        ],
        [
         "2025-09-24",
         2500
        ],
        [
         "2025-09-25",
         6800
        ],
        [
         "2025-09-26",
         7400
        ],
        [
         "2025-09-27",
         7900
        ],
        [
         "2025-09-29",
         500
        ],
        [
         "2025-09-30",
         11100
        ]
       ],
       "datasetInfos": [
        {
         "name": "_sqldf",
         "schema": {
          "fields": [
           {
            "metadata": {
             "__detected_date_formats": "d-M-yyyy"
            },
            "name": "AppointmentDate",
            "nullable": true,
            "type": "date"
           },
           {
            "metadata": {},
            "name": "DailyRevenue",
            "nullable": true,
            "type": "long"
           }
          ],
          "type": "struct"
         },
         "tableIdentifier": null,
         "typeStr": "pyspark.sql.connect.dataframe.DataFrame"
        }
       ],
       "dbfsResultPath": null,
       "isJsonSchema": true,
       "metadata": {
        "createTempViewForImplicitDf": true,
        "dataframeName": "_sqldf",
        "executionCount": 48
       },
       "overflow": false,
       "plotOptions": {
        "customPlotOptions": {},
        "displayType": "table",
        "pivotAggregation": null,
        "pivotColumns": null,
        "xColumns": null,
        "yColumns": null
       },
       "removedWidgets": [],
       "schema": [
        {
         "metadata": "{\"__detected_date_formats\": \"d-M-yyyy\"}",
         "name": "AppointmentDate",
         "type": "\"date\""
        },
        {
         "metadata": "{}",
         "name": "DailyRevenue",
         "type": "\"long\""
        }
       ],
       "type": "table"
      }
     },
     "output_type": "display_data"
    },
    {
     "output_type": "display_data",
     "data": {
      "text/plain": [
       "Databricks visualization. Run in Databricks to view."
      ]
     },
     "metadata": {
      "application/vnd.databricks.v1.subcommand+json": {
       "baseErrorDetails": null,
       "bindings": {},
       "collapsed": false,
       "command": "%sql WITH q AS (SELECT AppointmentDate, SUM(Price) AS DailyRevenue\nFROM salon_spa\nGROUP BY AppointmentDate\nORDER BY AppointmentDate) SELECT DATE_TRUNC('DAY',`AppointmentDate`) `column_4ed3cb4d260`,`DailyRevenue` FROM q GROUP BY `DailyRevenue`,`column_4ed3cb4d260`",
       "commandTitle": "Visualization 1",
       "commandType": "auto",
       "commandVersion": 0,
       "commentThread": [],
       "commentsVisible": false,
       "contentSha256Hex": null,
       "customPlotOptions": {
        "redashChart": [
         {
          "key": "type",
          "value": "CHART"
         },
         {
          "key": "options",
          "value": {
           "alignYAxesAtZero": true,
           "coefficient": 1,
           "columnConfigurationMap": {
            "x": {
             "column": "AppointmentDate",
             "id": "column_4ed3cb4d260",
             "transform": "DAY_LEVEL"
            },
            "y": [
             {
              "column": "DailyRevenue",
              "id": "column_4ed3cb4d253"
             }
            ]
           },
           "dateTimeFormat": "DD/MM/YYYY HH:mm",
           "direction": {
            "type": "counterclockwise"
           },
           "error_y": {
            "type": "data",
            "visible": true
           },
           "globalSeriesType": "heatmap",
           "legend": {
            "traceorder": "normal"
           },
           "missingValuesAsZero": true,
           "numberFormat": "0,0.[00000]",
           "percentFormat": "0[.]00%",
           "series": {
            "error_y": {
             "type": "data",
             "visible": true
            },
            "stacking": null
           },
           "seriesOptions": {
            "column_4ed3cb4d253": {
             "name": "DailyRevenue",
             "type": "heatmap",
             "yAxis": 0
            }
           },
           "showDataLabels": false,
           "sizemode": "diameter",
           "sortX": true,
           "sortY": true,
           "swappedAxes": false,
           "textFormat": "",
           "useAggregationsUi": true,
           "valuesOptions": {},
           "version": 2,
           "xAxis": {
            "labels": {
             "enabled": true
            },
            "type": "-"
           },
           "yAxis": [
            {
             "type": "-"
            },
            {
             "opposite": true,
             "type": "-"
            }
           ]
          }
         }
        ]
       },
       "datasetPreviewNameToCmdIdMap": {},
       "diffDeletes": [],
       "diffInserts": [],
       "displayType": "redashChart",
       "error": null,
       "errorDetails": null,
       "errorSummary": null,
       "errorTraceType": null,
       "finishTime": 0,
       "globalVars": {},
       "guid": "",
       "height": "auto",
       "hideCommandCode": false,
       "hideCommandResult": false,
       "iPythonMetadata": null,
       "inputWidgets": {},
       "isLockedInExamMode": false,
       "latestAssumeRoleInfo": null,
       "latestUser": "a user",
       "latestUserId": null,
       "listResultMetadata": null,
       "metadata": {},
       "nuid": "e416c55f-fc91-4cbb-9a25-39c9d06d2af3",
       "origId": 0,
       "parentHierarchy": [],
       "pivotAggregation": null,
       "pivotColumns": null,
       "position": 16.0,
       "resultDbfsErrorMessage": null,
       "resultDbfsStatus": "INLINED_IN_TREE",
       "results": null,
       "showCommandTitle": false,
       "startTime": 0,
       "state": "input",
       "streamStates": {},
       "subcommandOptions": {
        "queryPlan": {
         "groups": [
          {
           "column": "column_4ed3cb4d260",
           "type": "column"
          },
          {
           "column": "DailyRevenue",
           "type": "column"
          }
         ],
         "selects": [
          {
           "alias": "column_4ed3cb4d260",
           "args": [
            {
             "column": "AppointmentDate",
             "type": "column"
            },
            {
             "string": "DAY",
             "type": "string"
            }
           ],
           "function": "DATE_TRUNC",
           "type": "function"
          },
          {
           "column": "DailyRevenue",
           "type": "column"
          }
         ]
        }
       },
       "submitTime": 0,
       "subtype": "tableResultSubCmd.visualization",
       "tableResultIndex": 0,
       "tableResultSettingsMap": {},
       "useConsistentColors": false,
       "version": "CommandV1",
       "width": "auto",
       "workflows": [],
       "xColumns": null,
       "yColumns": null
      }
     },
     "output_type": "display_data"
    }
   ],
   "source": [
    "SELECT AppointmentDate, SUM(Price) AS DailyRevenue\n",
    "FROM salon_spa\n",
    "GROUP BY AppointmentDate\n",
    "ORDER BY AppointmentDate"
   ]
  }
 ],
 "metadata": {
  "application/vnd.databricks.v1+notebook": {
   "computePreferences": null,
   "dashboards": [],
   "environmentMetadata": {
    "base_environment": "",
    "environment_version": "3"
   },
   "inputWidgetPreferences": null,
   "language": "sql",
   "notebookMetadata": {
    "pythonIndentUnit": 4
   },
   "notebookName": "saloon and spa",
   "widgets": {}
  },
  "language_info": {
   "name": "sql"
  }
 },
 "nbformat": 4,
 "nbformat_minor": 0
}